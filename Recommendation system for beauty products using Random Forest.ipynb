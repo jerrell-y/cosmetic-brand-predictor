{
 "cells": [
  {
   "cell_type": "markdown",
   "id": "4b0d52b1",
   "metadata": {},
   "source": [
    "# 1. Importing basic libraries and the dataset"
   ]
  },
  {
   "cell_type": "code",
   "execution_count": 22,
   "id": "56b5b92b",
   "metadata": {},
   "outputs": [],
   "source": [
    "# Basic libraries\n",
    "import pandas as pd\n",
    "from sklearn.ensemble import RandomForestClassifier\n",
    "from sklearn.model_selection import train_test_split, GridSearchCV\n",
    "from sklearn.preprocessing import LabelEncoder\n",
    "from sklearn.metrics import classification_report\n",
    "from sklearn.model_selection import StratifiedKFold"
   ]
  },
  {
   "cell_type": "code",
   "execution_count": 23,
   "id": "4dc0c4f6",
   "metadata": {},
   "outputs": [
    {
     "name": "stdout",
     "output_type": "stream",
     "text": [
      "       Product_Name              Brand        Category Usage_Frequency  \\\n",
      "0   Ultra Face Mask     Drunk Elephant           Blush          Weekly   \n",
      "1    Ultra Lipstick      Laura Mercier  Makeup Remover      Occasional   \n",
      "2       Ultra Serum     Natasha Denona     Highlighter           Daily   \n",
      "3      Divine Serum        Ilia Beauty       Face Mask      Occasional   \n",
      "4  Super Foundation  Charlotte Tilbury     Highlighter      Occasional   \n",
      "\n",
      "   Price_USD  Rating  Number_of_Reviews Product_Size  Skin_Type Gender_Target  \\\n",
      "0      67.85     1.4                686         30ml  Sensitive        Female   \n",
      "1     116.43     4.2               5483        250ml        Dry        Unisex   \n",
      "2      90.84     1.6               5039        100ml  Sensitive          Male   \n",
      "3      55.17     3.2               6202        250ml     Normal          Male   \n",
      "4     140.56     1.7                297        100ml       Oily        Female   \n",
      "\n",
      "  Packaging_Type Main_Ingredient  Cruelty_Free Country_of_Origin  \n",
      "0           Tube         Retinol         False         Australia  \n",
      "1         Bottle     Shea Butter         False                UK  \n",
      "2        Compact       Aloe Vera          True             Italy  \n",
      "3           Tube        Glycerin          True       South Korea  \n",
      "4        Compact        Glycerin         False           Germany  \n"
     ]
    }
   ],
   "source": [
    "# Load the dataset\n",
    "df = pd.read_csv('most_used_beauty_cosmetics_products_extended.csv')\n",
    "print(df.head(5))"
   ]
  },
  {
   "cell_type": "code",
   "execution_count": 24,
   "id": "5b15c53f",
   "metadata": {},
   "outputs": [
    {
     "data": {
      "text/plain": [
       "Product_Name          object\n",
       "Brand                 object\n",
       "Category              object\n",
       "Usage_Frequency       object\n",
       "Price_USD            float64\n",
       "Rating               float64\n",
       "Number_of_Reviews      int64\n",
       "Product_Size          object\n",
       "Skin_Type             object\n",
       "Gender_Target         object\n",
       "Packaging_Type        object\n",
       "Main_Ingredient       object\n",
       "Cruelty_Free            bool\n",
       "Country_of_Origin     object\n",
       "dtype: object"
      ]
     },
     "execution_count": 24,
     "metadata": {},
     "output_type": "execute_result"
    }
   ],
   "source": [
    "# Check the datatypes of each column\n",
    "df.dtypes"
   ]
  },
  {
   "cell_type": "markdown",
   "id": "180b43fd",
   "metadata": {},
   "source": [
    "# 2. Data cleaning"
   ]
  },
  {
   "cell_type": "code",
   "execution_count": 25,
   "id": "57fb98a9",
   "metadata": {},
   "outputs": [],
   "source": [
    "# Remove unnecessary columns\n",
    "df = df.drop(columns=['Product_Name', 'Packaging_Type', 'Main_Ingredient', 'Country_of_Origin'])\n",
    "# Remove 'ml' from the back of each product_size entry\n",
    "df['Product_Size'] = df['Product_Size'].str.replace('ml', '').astype(float)"
   ]
  },
  {
   "cell_type": "code",
   "execution_count": 26,
   "id": "55738399",
   "metadata": {},
   "outputs": [
    {
     "name": "stdout",
     "output_type": "stream",
     "text": [
      "               Brand        Category Usage_Frequency  Price_USD  Rating  \\\n",
      "0     Drunk Elephant           Blush          Weekly      67.85     1.4   \n",
      "1      Laura Mercier  Makeup Remover      Occasional     116.43     4.2   \n",
      "2     Natasha Denona     Highlighter           Daily      90.84     1.6   \n",
      "3        Ilia Beauty       Face Mask      Occasional      55.17     3.2   \n",
      "4  Charlotte Tilbury     Highlighter      Occasional     140.56     1.7   \n",
      "\n",
      "   Number_of_Reviews  Product_Size  Skin_Type Gender_Target  Cruelty_Free  \n",
      "0                686          30.0  Sensitive        Female         False  \n",
      "1               5483         250.0        Dry        Unisex         False  \n",
      "2               5039         100.0  Sensitive          Male          True  \n",
      "3               6202         250.0     Normal          Male          True  \n",
      "4                297         100.0       Oily        Female         False  \n"
     ]
    }
   ],
   "source": [
    "# Check dataset structure\n",
    "print(df.head(5))"
   ]
  },
  {
   "cell_type": "markdown",
   "id": "26289ee3",
   "metadata": {},
   "source": [
    "# 3. Converting categorical values into numerical values with label encoding and one-hot encoding"
   ]
  },
  {
   "cell_type": "code",
   "execution_count": 27,
   "id": "ffb8337b",
   "metadata": {},
   "outputs": [],
   "source": [
    "# Separate label encoding for the Brand column (target)\n",
    "label_encoder_brand = LabelEncoder()\n",
    "df['Brand'] = label_encoder_brand.fit_transform(df['Brand'])\n",
    "\n",
    "# One-hot encoding for categorical columns (inputs)\n",
    "categorical_cols = ['Category', 'Usage_Frequency', 'Skin_Type', 'Gender_Target', 'Cruelty_Free']\n",
    "df = pd.get_dummies(df, columns=categorical_cols)"
   ]
  },
  {
   "cell_type": "code",
   "execution_count": 28,
   "id": "5f562510",
   "metadata": {},
   "outputs": [
    {
     "name": "stdout",
     "output_type": "stream",
     "text": [
      "   Brand  Price_USD  Rating  Number_of_Reviews  Product_Size  \\\n",
      "0      9      67.85     1.4                686          30.0   \n",
      "1     22     116.43     4.2               5483         250.0   \n",
      "2     27      90.84     1.6               5039         100.0   \n",
      "3     17      55.17     3.2               6202         250.0   \n",
      "4      5     140.56     1.7                297         100.0   \n",
      "\n",
      "   Category_BB Cream  Category_Blush  Category_Bronzer  Category_CC Cream  \\\n",
      "0                  0               1                 0                  0   \n",
      "1                  0               0                 0                  0   \n",
      "2                  0               0                 0                  0   \n",
      "3                  0               0                 0                  0   \n",
      "4                  0               0                 0                  0   \n",
      "\n",
      "   Category_Cleanser  ...  Skin_Type_Combination  Skin_Type_Dry  \\\n",
      "0                  0  ...                      0              0   \n",
      "1                  0  ...                      0              1   \n",
      "2                  0  ...                      0              0   \n",
      "3                  0  ...                      0              0   \n",
      "4                  0  ...                      0              0   \n",
      "\n",
      "   Skin_Type_Normal  Skin_Type_Oily  Skin_Type_Sensitive  \\\n",
      "0                 0               0                    1   \n",
      "1                 0               0                    0   \n",
      "2                 0               0                    1   \n",
      "3                 1               0                    0   \n",
      "4                 0               1                    0   \n",
      "\n",
      "   Gender_Target_Female  Gender_Target_Male  Gender_Target_Unisex  \\\n",
      "0                     1                   0                     0   \n",
      "1                     0                   0                     1   \n",
      "2                     0                   1                     0   \n",
      "3                     0                   1                     0   \n",
      "4                     1                   0                     0   \n",
      "\n",
      "   Cruelty_Free_False  Cruelty_Free_True  \n",
      "0                   1                  0  \n",
      "1                   1                  0  \n",
      "2                   0                  1  \n",
      "3                   0                  1  \n",
      "4                   1                  0  \n",
      "\n",
      "[5 rows x 43 columns]\n"
     ]
    }
   ],
   "source": [
    "# Check dataset structure to confirm that one-hot encoding has been applied\n",
    "print(df.head(5))"
   ]
  },
  {
   "cell_type": "code",
   "execution_count": 29,
   "id": "63af1b5b",
   "metadata": {},
   "outputs": [
    {
     "data": {
      "text/plain": [
       "Brand                           int32\n",
       "Price_USD                     float64\n",
       "Rating                        float64\n",
       "Number_of_Reviews               int64\n",
       "Product_Size                  float64\n",
       "Category_BB Cream               uint8\n",
       "Category_Blush                  uint8\n",
       "Category_Bronzer                uint8\n",
       "Category_CC Cream               uint8\n",
       "Category_Cleanser               uint8\n",
       "Category_Concealer              uint8\n",
       "Category_Contour                uint8\n",
       "Category_Exfoliator             uint8\n",
       "Category_Eye Shadow             uint8\n",
       "Category_Eyeliner               uint8\n",
       "Category_Face Mask              uint8\n",
       "Category_Face Oil               uint8\n",
       "Category_Foundation             uint8\n",
       "Category_Highlighter            uint8\n",
       "Category_Lip Gloss              uint8\n",
       "Category_Lip Liner              uint8\n",
       "Category_Lipstick               uint8\n",
       "Category_Makeup Remover         uint8\n",
       "Category_Mascara                uint8\n",
       "Category_Moisturizer            uint8\n",
       "Category_Powder                 uint8\n",
       "Category_Primer                 uint8\n",
       "Category_Serum                  uint8\n",
       "Category_Setting Spray          uint8\n",
       "Usage_Frequency_Daily           uint8\n",
       "Usage_Frequency_Monthly         uint8\n",
       "Usage_Frequency_Occasional      uint8\n",
       "Usage_Frequency_Weekly          uint8\n",
       "Skin_Type_Combination           uint8\n",
       "Skin_Type_Dry                   uint8\n",
       "Skin_Type_Normal                uint8\n",
       "Skin_Type_Oily                  uint8\n",
       "Skin_Type_Sensitive             uint8\n",
       "Gender_Target_Female            uint8\n",
       "Gender_Target_Male              uint8\n",
       "Gender_Target_Unisex            uint8\n",
       "Cruelty_Free_False              uint8\n",
       "Cruelty_Free_True               uint8\n",
       "dtype: object"
      ]
     },
     "execution_count": 29,
     "metadata": {},
     "output_type": "execute_result"
    }
   ],
   "source": [
    "# Check that the data types had been converted to numerical\n",
    "df.dtypes"
   ]
  },
  {
   "cell_type": "markdown",
   "id": "b439a2bc",
   "metadata": {},
   "source": [
    "# 4. Training the model"
   ]
  },
  {
   "cell_type": "code",
   "execution_count": 30,
   "id": "93a25d8e",
   "metadata": {},
   "outputs": [],
   "source": [
    "# Features (X) and Target (y)\n",
    "X = df.drop(columns=['Brand'])\n",
    "y = df['Brand']"
   ]
  },
  {
   "cell_type": "code",
   "execution_count": 31,
   "id": "57628ec2",
   "metadata": {},
   "outputs": [],
   "source": [
    "# Split the data into training and testing sets\n",
    "X_train, X_test, y_train, y_test = train_test_split(X, y, test_size=0.3, random_state=42)"
   ]
  },
  {
   "cell_type": "code",
   "execution_count": 32,
   "id": "2a81ccc5",
   "metadata": {},
   "outputs": [],
   "source": [
    "# Step 1: Define the parameter grid\n",
    "param_grid = {\n",
    "    'n_estimators': [50, 100, 200],  # Number of trees in the forest\n",
    "    'max_depth': [None, 10, 20, 30],  # Maximum depth of the tree\n",
    "    'min_samples_split': [2, 5, 10],  # Minimum number of samples required to split an internal node\n",
    "    'min_samples_leaf': [1, 2, 4],  # Minimum number of samples required to be at a leaf node\n",
    "    'bootstrap': [True, False]  # Whether bootstrap samples are used when building trees\n",
    "}"
   ]
  },
  {
   "cell_type": "code",
   "execution_count": 33,
   "id": "ffb3ef7e",
   "metadata": {},
   "outputs": [],
   "source": [
    "# Step 2: Initialize the RandomForestClassifier\n",
    "rf_model = RandomForestClassifier(random_state=30)"
   ]
  },
  {
   "cell_type": "code",
   "execution_count": 34,
   "id": "0c80048f",
   "metadata": {},
   "outputs": [],
   "source": [
    "# Step 3: Set up GridSearchCV with cross-validation\n",
    "grid_search = GridSearchCV(estimator=rf_model, \n",
    "                           param_grid=param_grid, \n",
    "                           cv=5,  # 5-fold cross-validation\n",
    "                           n_jobs=-1,  # Use all available CPU cores\n",
    "                           verbose=2,  # Display progress during the grid search\n",
    "                           scoring='accuracy')  # Optimize for accuracy"
   ]
  },
  {
   "cell_type": "code",
   "execution_count": 35,
   "id": "487705fe",
   "metadata": {},
   "outputs": [
    {
     "name": "stdout",
     "output_type": "stream",
     "text": [
      "Fitting 5 folds for each of 216 candidates, totalling 1080 fits\n"
     ]
    },
    {
     "data": {
      "text/plain": [
       "GridSearchCV(cv=5, estimator=RandomForestClassifier(random_state=30), n_jobs=-1,\n",
       "             param_grid={'bootstrap': [True, False],\n",
       "                         'max_depth': [None, 10, 20, 30],\n",
       "                         'min_samples_leaf': [1, 2, 4],\n",
       "                         'min_samples_split': [2, 5, 10],\n",
       "                         'n_estimators': [50, 100, 200]},\n",
       "             scoring='accuracy', verbose=2)"
      ]
     },
     "execution_count": 35,
     "metadata": {},
     "output_type": "execute_result"
    }
   ],
   "source": [
    "# Step 4: Fit GridSearchCV to the training data\n",
    "grid_search.fit(X_train, y_train)"
   ]
  },
  {
   "cell_type": "code",
   "execution_count": 36,
   "id": "fc7d843b",
   "metadata": {},
   "outputs": [
    {
     "name": "stdout",
     "output_type": "stream",
     "text": [
      "Best Parameters: {'bootstrap': False, 'max_depth': 10, 'min_samples_leaf': 4, 'min_samples_split': 2, 'n_estimators': 200}\n"
     ]
    }
   ],
   "source": [
    "# Step 5: Output the best parameters found during the grid search\n",
    "print(\"Best Parameters:\", grid_search.best_params_)"
   ]
  },
  {
   "cell_type": "code",
   "execution_count": 37,
   "id": "203989ae",
   "metadata": {},
   "outputs": [],
   "source": [
    "# Step 6: Make predictions on the test set using the best estimator\n",
    "best_rf_model = grid_search.best_estimator_\n",
    "y_pred = best_rf_model.predict(X_test)"
   ]
  },
  {
   "cell_type": "markdown",
   "id": "683edb13",
   "metadata": {},
   "source": [
    "# 5. Entering user inputs to obtain recommended brand to buy"
   ]
  },
  {
   "cell_type": "code",
   "execution_count": 38,
   "id": "ed9016ac",
   "metadata": {},
   "outputs": [
    {
     "name": "stdout",
     "output_type": "stream",
     "text": [
      "{'Category': 'Blush', 'Usage_Frequency': 'Daily', 'Price_USD': 25.99, 'Rating': 4.5, 'Number_of_Reviews': 1000, 'Product_Size': 100, 'Skin_Type': 'Oily', 'Gender_Target': 'Male', 'Cruelty_Free': 'True'}\n"
     ]
    }
   ],
   "source": [
    "# Sample input data (before encoding)\n",
    "sample_input = {\n",
    "    'Category': 'Blush',\n",
    "    'Usage_Frequency': 'Daily',\n",
    "    'Price_USD': 25.99,\n",
    "    'Rating': 4.5,\n",
    "    'Number_of_Reviews': 1000,\n",
    "    'Product_Size': 100,  # in ml, already converted to numeric\n",
    "    'Skin_Type': 'Oily',\n",
    "    'Gender_Target': 'Male',\n",
    "    'Cruelty_Free': 'True'\n",
    "}\n",
    "\n",
    "print(sample_input)"
   ]
  },
  {
   "cell_type": "code",
   "execution_count": 39,
   "id": "be1ddf8f",
   "metadata": {},
   "outputs": [
    {
     "name": "stdout",
     "output_type": "stream",
     "text": [
      "Predicted Brand (Categorical): Danessa Myricks\n"
     ]
    }
   ],
   "source": [
    "# Convert sample_input into a DataFrame\n",
    "input_df = pd.DataFrame([sample_input])\n",
    "\n",
    "# Apply the same one-hot encoding to the input data\n",
    "input_df = pd.get_dummies(input_df)\n",
    "\n",
    "# Align input_df with the training data (ensure columns match)\n",
    "input_df = input_df.reindex(columns=X.columns, fill_value=0)\n",
    "\n",
    "# Select the same feature columns as the ones used for training\n",
    "X_new = input_df\n",
    "\n",
    "# Make a prediction with the best model\n",
    "brand_prediction = best_rf_model.predict(X_new)\n",
    "\n",
    "# Convert predicted brand back to categorical\n",
    "predicted_brand_categorical = label_encoder_brand.inverse_transform([brand_prediction[0]])\n",
    "print(\"Predicted Brand (Categorical):\", predicted_brand_categorical[0])"
   ]
  },
  {
   "cell_type": "markdown",
   "id": "95277e95",
   "metadata": {},
   "source": [
    "# Therefore with the given sample inputs, the predicted brand to purchase from is Danessa Myricks.\n"
   ]
  }
 ],
 "metadata": {
  "kernelspec": {
   "display_name": "Python 3 (ipykernel)",
   "language": "python",
   "name": "python3"
  },
  "language_info": {
   "codemirror_mode": {
    "name": "ipython",
    "version": 3
   },
   "file_extension": ".py",
   "mimetype": "text/x-python",
   "name": "python",
   "nbconvert_exporter": "python",
   "pygments_lexer": "ipython3",
   "version": "3.9.13"
  }
 },
 "nbformat": 4,
 "nbformat_minor": 5
}
